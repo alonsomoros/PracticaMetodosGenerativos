{
 "cells": [
  {
   "cell_type": "markdown",
   "metadata": {},
   "source": [
    "# Estructura del modelo"
   ]
  },
  {
   "cell_type": "markdown",
   "metadata": {},
   "source": [
    "### Imports"
   ]
  },
  {
   "cell_type": "code",
   "execution_count": null,
   "metadata": {},
   "outputs": [],
   "source": [
    "import os\n",
    "import librosa\n",
    "import numpy as np\n",
    "import soundfile as sf\n",
    "import tensorflow as tf\n",
    "import matplotlib.pyplot as plt"
   ]
  },
  {
   "cell_type": "markdown",
   "metadata": {},
   "source": [
    "## Gestión del Dataset"
   ]
  },
  {
   "cell_type": "markdown",
   "metadata": {},
   "source": [
    "### Funciones"
   ]
  },
  {
   "cell_type": "code",
   "execution_count": null,
   "metadata": {},
   "outputs": [],
   "source": [
    "def audio_to_spectrogram(file_path, sr = 20500, n_fft = 2048, hop_length = 512):\n",
    "    # Cargar el audio\n",
    "    y, sr = librosa.load(file_path, sr = sr)\n",
    "    \n",
    "    # Calcular el espectrograma (STFT)\n",
    "    S = librosa.stft(y, n_fft = n_fft, hop_length = hop_length)\n",
    "    \n",
    "    # Convertir a magnitudes (la magnitud es el espectrograma)\n",
    "    spectrogram = np.abs(S)\n",
    "    \n",
    "    # Escalar en logaritmo (opcional para mejor visualización y aprendizaje)\n",
    "    log_spectrogram = librosa.amplitude_to_db(spectrogram, ref = np.max)\n",
    "\n",
    "    return log_spectrogram\n",
    "\n",
    "def spectrogram_to_audio_sin_fase(magnitud, sr, n_fft = 2048, hop_length = 512, n_iter = 32):\n",
    "    # Reconstrucción del audio con Griffin-Lim\n",
    "    audio_reconstruido = librosa.griffinlim(magnitud, n_iter = n_iter, hop_length = hop_length, n_fft = n_fft)\n",
    "    \n",
    "    return audio_reconstruido\n",
    "\n",
    "def visualize_spectrogram(spectrogram, title = \"Spectrogram\"):\n",
    "    plt.figure(figsize=(10, 4))\n",
    "\n",
    "    # Mostrar el espectrograma con un mapa de colores (viridis o inferno suelen ser útiles)\n",
    "    plt.imshow(spectrogram, aspect = 'auto', origin = 'lower', cmap = 'viridis')\n",
    "    plt.colorbar(label = \"Decibels (dB)\")\n",
    "    plt.title(title)\n",
    "    plt.xlabel(\"Time (frames)\")\n",
    "    plt.ylabel(\"Frequency (bins)\")\n",
    "    plt.tight_layout()\n",
    "    \n",
    "    plt.show()\n",
    "\n",
    "def pad_or_trim(spectrogram, max_length = 188):\n",
    "    if spectrogram.shape[1] > max_length:  # Recortar\n",
    "        return spectrogram[:, :max_length]\n",
    "    else:  # Rellenar\n",
    "        padding = np.zeros((spectrogram.shape[0], max_length - spectrogram.shape[1]))\n",
    "        return np.hstack((spectrogram, padding))\n"
   ]
  },
  {
   "cell_type": "markdown",
   "metadata": {},
   "source": [
    "### Carga, clasificación y estructuración de los datos"
   ]
  },
  {
   "cell_type": "code",
   "execution_count": null,
   "metadata": {},
   "outputs": [],
   "source": [
    "\n",
    "path = \"path\"\n",
    "\n",
    "vocab = []\n",
    "word_to_index = {}\n",
    "index_to_word = {}\n",
    "data = []\n",
    "flat_data = []\n",
    "num = 0\n",
    "\n",
    "batch_size = 32\n",
    "\n",
    "max_length = 188\n",
    "max_height = 1025\n",
    "\n",
    "for word in os.listdir(path):\n",
    "    print(num)\n",
    "    vocab.append(word)\n",
    "\n",
    "    word_path = os.path.join(path, word)\n",
    "    spectrogram_list = []\n",
    "    \n",
    "    for index, audio in enumerate(os.listdir(word_path)):\n",
    "        if index > 100:\n",
    "            break\n",
    "        \n",
    "        audio_path = os.path.join(word_path, audio)\n",
    "        spectrogram = audio_to_spectrogram(audio_path)\n",
    "\n",
    "        # Ajustar dimensiones\n",
    "        spectrogram = pad_or_trim(spectrogram)\n",
    "\n",
    "        spectrogram_list.append((spectrogram))\n",
    "\n",
    "    data.append(spectrogram_list)\n",
    "    num += 1\n",
    "\n",
    "\n",
    "word_to_index = {word: index for index, word in enumerate(vocab)}\n",
    "index_to_word = {idx: word for word, idx in word_to_index.items()}\n",
    "\n",
    "for i in range(len(data)):\n",
    "    for j in range(len(data[i])):\n",
    "        flat_data.append((i, data[i][j]))"
   ]
  },
  {
   "cell_type": "markdown",
   "metadata": {},
   "source": [
    "### Creación del Dataset"
   ]
  },
  {
   "cell_type": "code",
   "execution_count": null,
   "metadata": {},
   "outputs": [],
   "source": [
    "labels = [item[0] for item in flat_data]  # Extraer etiquetas\n",
    "spectrograms = [item[1] for item in flat_data]  # Extraer espectrogramas\n",
    "\n",
    "# Convertir a tensores\n",
    "label_tensor = tf.convert_to_tensor(labels, dtype=tf.int32)\n",
    "spectrogram_tensor = tf.convert_to_tensor(spectrograms, dtype=tf.float32)\n",
    "\n",
    "# Crear el dataset\n",
    "dataset = tf.data.Dataset.from_tensor_slices((label_tensor, spectrogram_tensor))\n",
    "\n",
    "# Barajar y dividir en lotes\n",
    "dataset = dataset.shuffle(len(labels)).batch(batch_size)"
   ]
  },
  {
   "cell_type": "code",
   "execution_count": null,
   "metadata": {},
   "outputs": [],
   "source": [
    "print(vocab)\n",
    "print(word_to_index)\n",
    "\n",
    "print(spectrograms)\n",
    "\n",
    "print(f\"Valores mínimos y máximos en labels: {min(labels)}, {max(labels)}\")\n",
    "print(f\"Vocab size: {len(vocab)}\")"
   ]
  },
  {
   "cell_type": "markdown",
   "metadata": {},
   "source": [
    "# Modelo"
   ]
  },
  {
   "cell_type": "markdown",
   "metadata": {},
   "source": [
    "### Estructura"
   ]
  },
  {
   "cell_type": "code",
   "execution_count": null,
   "metadata": {},
   "outputs": [],
   "source": [
    "class TextEncoder(tf.keras.Model):\n",
    "    def __init__(self, vocab_size, embed_dim):\n",
    "        super(TextEncoder, self).__init__()\n",
    "        self.embedding = tf.keras.layers.Embedding(vocab_size, embed_dim)\n",
    "\n",
    "    def call(self, x):\n",
    "        return self.embedding(x)\n",
    "\n",
    "class SpectrogramDecoder(tf.keras.Model):\n",
    "    def __init__(self, target_dim):\n",
    "        super(SpectrogramDecoder, self).__init__()\n",
    "        self.dense = tf.keras.Sequential([\n",
    "            tf.keras.layers.Dense(256, activation='relu'),\n",
    "            tf.keras.layers.Dense(target_dim, activation=None)  # No activación para espectrogramas sin normalizar\n",
    "        ])\n",
    "\n",
    "    def call(self, x):\n",
    "        return self.dense(x)\n",
    "\n",
    "class TextToSpectrogram(tf.keras.Model):\n",
    "    def __init__(self, vocab_size, embed_dim, target_dim):\n",
    "        super(TextToSpectrogram, self).__init__()\n",
    "        self.encoder = TextEncoder(vocab_size, embed_dim)\n",
    "        self.decoder = SpectrogramDecoder(target_dim)\n",
    "\n",
    "    def call(self, x):\n",
    "        x = self.encoder(x)\n",
    "        return self.decoder(x)\n",
    "    \n",
    "def create_model(vocab_size, embed_dim, target_dim):\n",
    "    # Definir el encoder y el decoder dentro del modelo funcional\n",
    "    input_text = tf.keras.Input(shape=(1,), name=\"text_input\")  # Entrada de texto\n",
    "    embedding = tf.keras.layers.Embedding(vocab_size, embed_dim)(input_text)\n",
    "\n",
    "    # Decoder\n",
    "    dense_1 = tf.keras.layers.Dense(256, activation='relu')(embedding)\n",
    "    output_flat = tf.keras.layers.Dense(target_dim, activation=None, name=\"output\")(dense_1)\n",
    "\n",
    "    # Ajustar dimensiones al formato (1025, 94)\n",
    "    output_spectrogram = tf.keras.layers.Reshape((max_height, max_length))(output_flat)\n",
    "    \n",
    "    # Crear modelo\n",
    "    model = tf.keras.Model(inputs=input_text, outputs=output_spectrogram, name=\"TextToSpectrogram\")\n",
    "    return model\n"
   ]
  },
  {
   "cell_type": "markdown",
   "metadata": {},
   "source": [
    "# Entrenamiento del Modelo"
   ]
  },
  {
   "cell_type": "markdown",
   "metadata": {},
   "source": [
    "### Funciones"
   ]
  },
  {
   "cell_type": "code",
   "execution_count": null,
   "metadata": {},
   "outputs": [],
   "source": [
    "def plot_losses(history):\n",
    "    plt.rcParams['figure.figsize'] = [20, 5]  # Ajustar tamaño de las gráficas\n",
    "    f, (ax1, ax2) = plt.subplots(1, 2, sharex=True)\n",
    "\n",
    "    # Pérdidas\n",
    "    ax1.set_title('Loss')\n",
    "    ax1.set_xlabel('Epoch')\n",
    "    ax1.set_ylabel('Loss')\n",
    "    ax1.grid()\n",
    "    ax1.plot(history.history['loss'], label='Training Loss', color='blue')\n",
    "    if 'val_loss' in history.history:\n",
    "        ax1.plot(history.history['val_loss'], label='Validation Loss', color='orange')\n",
    "    ax1.legend(loc=\"upper right\")\n",
    "\n",
    "    # Métricas\n",
    "    ax2.set_title('Mean Absolute Error (MAE)')\n",
    "    ax2.set_xlabel('Epoch')\n",
    "    ax2.set_ylabel('MAE')\n",
    "    ax2.grid()\n",
    "    if 'mae' in history.history:\n",
    "        ax2.plot(history.history['mae'], label='Training MAE', color='green')\n",
    "    if 'val_mae' in history.history:\n",
    "        ax2.plot(history.history['val_mae'], label='Validation MAE', color='red')\n",
    "    ax2.legend(loc=\"upper right\")\n",
    "\n",
    "    # Mostrar las gráficas\n",
    "    plt.show()\n"
   ]
  },
  {
   "cell_type": "markdown",
   "metadata": {},
   "source": [
    "### Configuración"
   ]
  },
  {
   "cell_type": "code",
   "execution_count": null,
   "metadata": {},
   "outputs": [],
   "source": [
    "vocab_size = len(vocab) # Tamaño del vocabulario\n",
    "embed_dim = 128  # Dimensión del embedding\n",
    "target_dim = max_length * max_height  # Dimensiones del espectrograma\n",
    "\n",
    "model = create_model(vocab_size, embed_dim, target_dim)\n",
    "model.summary()\n"
   ]
  },
  {
   "cell_type": "markdown",
   "metadata": {},
   "source": [
    "### Compilación con Funciones de Pérdida"
   ]
  },
  {
   "cell_type": "code",
   "execution_count": null,
   "metadata": {},
   "outputs": [],
   "source": [
    "model.compile(\n",
    "    optimizer=tf.keras.optimizers.Adam(learning_rate=1e-4),\n",
    "    loss=\"mse\",  # Error cuadrático medio\n",
    "    metrics=[\"mae\"]  # Error absoluto medio como métrica adicional\n",
    ")"
   ]
  },
  {
   "cell_type": "markdown",
   "metadata": {},
   "source": [
    "### Entrenamiento"
   ]
  },
  {
   "cell_type": "code",
   "execution_count": null,
   "metadata": {},
   "outputs": [],
   "source": [
    "epochs = 5\n",
    "\n",
    "history = model.fit(dataset, batch_size = batch_size, epochs = epochs)"
   ]
  },
  {
   "cell_type": "code",
   "execution_count": null,
   "metadata": {},
   "outputs": [],
   "source": [
    "plot_losses(history)"
   ]
  },
  {
   "cell_type": "markdown",
   "metadata": {},
   "source": [
    "# Obtención de los espectogramas"
   ]
  },
  {
   "cell_type": "markdown",
   "metadata": {},
   "source": [
    "### Obtener la predicción"
   ]
  },
  {
   "cell_type": "code",
   "execution_count": null,
   "metadata": {},
   "outputs": [],
   "source": [
    "# Hacer la predicción\n",
    "predicted_spectrogram = model.predict([3])\n",
    "\n",
    "# Como 'predicted_spectrogram' tendrá la forma (1, 1025, 94), accedemos al primer elemento\n",
    "spectrogram = predicted_spectrogram[0]  # El espectrograma de la palabra"
   ]
  },
  {
   "cell_type": "markdown",
   "metadata": {},
   "source": [
    "### Visualizar el espectrograma predecido"
   ]
  },
  {
   "cell_type": "code",
   "execution_count": null,
   "metadata": {},
   "outputs": [],
   "source": [
    "# Asume que el modelo devuelve un espectrograma con dimensiones (1025, 94)\n",
    "spectrogram = predicted_spectrogram[0]  # Toma el primer resultado en el batch\n",
    "\n",
    "# Visualiza el espectrograma\n",
    "plt.figure(figsize=(10, 6))\n",
    "plt.imshow(spectrogram, aspect='auto', origin='lower', cmap='viridis')\n",
    "plt.colorbar(label='Amplitude')\n",
    "plt.title('Predicted Spectrogram')\n",
    "plt.xlabel('Time')\n",
    "plt.ylabel('Frequency')\n",
    "plt.show()"
   ]
  },
  {
   "cell_type": "markdown",
   "metadata": {},
   "source": [
    "### Obtener Audio"
   ]
  },
  {
   "cell_type": "code",
   "execution_count": null,
   "metadata": {},
   "outputs": [],
   "source": [
    "audio_generado = spectrogram_to_audio_sin_fase(spectrogram, 20500)\n",
    "\n",
    "sf.write(\"audio_generado.wav\", audio_generado, samplerate = 20500, format = \"wav\")"
   ]
  }
 ],
 "metadata": {
  "kernelspec": {
   "display_name": "librosa",
   "language": "python",
   "name": "python3"
  },
  "language_info": {
   "codemirror_mode": {
    "name": "ipython",
    "version": 3
   },
   "file_extension": ".py",
   "mimetype": "text/x-python",
   "name": "python",
   "nbconvert_exporter": "python",
   "pygments_lexer": "ipython3",
   "version": "3.8.20"
  }
 },
 "nbformat": 4,
 "nbformat_minor": 2
}
