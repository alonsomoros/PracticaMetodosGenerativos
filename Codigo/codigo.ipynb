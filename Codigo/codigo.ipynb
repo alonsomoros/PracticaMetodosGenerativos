{
 "cells": [
  {
   "cell_type": "markdown",
   "metadata": {},
   "source": [
    "# Imports"
   ]
  },
  {
   "cell_type": "code",
   "execution_count": null,
   "metadata": {},
   "outputs": [],
   "source": [
    "import os\n",
    "import librosa\n",
    "import numpy as np\n",
    "import soundfile as sf\n",
    "import matplotlib.pyplot as plt"
   ]
  },
  {
   "cell_type": "markdown",
   "metadata": {},
   "source": [
    "# Tratamiento de la señal"
   ]
  },
  {
   "cell_type": "code",
   "execution_count": null,
   "metadata": {},
   "outputs": [],
   "source": [
    "def audio_to_spectrogram(file_path, sr = None, n_fft = 2048, hop_length = 512):\n",
    "    # Cargar el audio\n",
    "    y, sr = librosa.load(file_path, sr = sr)\n",
    "    \n",
    "    # Calcular el espectrograma (STFT)\n",
    "    S = librosa.stft(y, n_fft = n_fft, hop_length = hop_length)\n",
    "    \n",
    "    # Separar magnitud y fase (la magnitud es el espectrograma)\n",
    "    magnitud, fase = np.abs(S), np.angle(S)\n",
    "    \n",
    "    return magnitud, sr, fase\n",
    "\n",
    "def spectrogram_to_audio_con_fase(magnitud, fase, sr, hop_length = 512):\n",
    "    # Combinar magnitud y fase para obtener el espectrograma complejo\n",
    "    S_complejo = magnitud * np.exp(1j * fase)\n",
    "    \n",
    "    # Reconstruir el audio usando la ISTFT\n",
    "    y_reconstruido = librosa.istft(S_complejo, hop_length=hop_length)\n",
    "    \n",
    "    return y_reconstruido\n",
    "\n",
    "def spectrogram_to_audio_sin_fase(magnitud, sr, n_fft = 2048, hop_length = 512, n_iter = 32):\n",
    "    # Reconstrucción del audio con Griffin-Lim\n",
    "    audio_reconstruido = librosa.griffinlim(magnitud, n_iter=n_iter, hop_length=hop_length, n_fft=n_fft)\n",
    "    \n",
    "    return audio_reconstruido\n"
   ]
  },
  {
   "cell_type": "code",
   "execution_count": null,
   "metadata": {},
   "outputs": [],
   "source": [
    "path = \"path_carpeta\"\n",
    "audio_name = \"nombre_audio\"\n",
    "\n",
    "# Generar el espectrograma\n",
    "magnitud, sr, fase = audio_to_spectrogram(path + \"//\" + audio_name)\n",
    "\n",
    "# Reconstruir el audio desde el espectrograma\n",
    "audio_reconstruido = spectrogram_to_audio_con_fase(magnitud, fase, sr)\n",
    "audio_reconstruido1 = spectrogram_to_audio_sin_fase(magnitud, sr)\n",
    "\n",
    "# Guardar el audio reconstruido\n",
    "sf.write(\"path_para_guardar_audio\", audio_reconstruido, sr)\n",
    "sf.write(\"path_para_guardar_audio\", audio_reconstruido1, sr)\n",
    "\n",
    "\n",
    "\n",
    "# Visualizar el espectrograma\n",
    "plt.figure(figsize=(10, 6))\n",
    "plt.imshow(librosa.amplitude_to_db(magnitud, ref=np.max), origin='lower', aspect='auto', cmap='viridis')\n",
    "plt.colorbar(format='%+2.0f dB')\n",
    "plt.title(\"Espectrograma\")\n",
    "plt.xlabel(\"Tiempo\")\n",
    "plt.ylabel(\"Frecuencia\")\n",
    "plt.tight_layout()\n",
    "plt.show()"
   ]
  }
 ],
 "metadata": {
  "kernelspec": {
   "display_name": "librosa",
   "language": "python",
   "name": "python3"
  },
  "language_info": {
   "codemirror_mode": {
    "name": "ipython",
    "version": 3
   },
   "file_extension": ".py",
   "mimetype": "text/x-python",
   "name": "python",
   "nbconvert_exporter": "python",
   "pygments_lexer": "ipython3",
   "version": "3.8.20"
  }
 },
 "nbformat": 4,
 "nbformat_minor": 2
}
